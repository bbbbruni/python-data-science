{
 "cells": [
  {
   "cell_type": "code",
   "execution_count": 238,
   "metadata": {},
   "outputs": [],
   "source": [
    "import pandas as pd"
   ]
  },
  {
   "cell_type": "code",
   "execution_count": 239,
   "metadata": {
    "scrolled": true
   },
   "outputs": [],
   "source": [
    "# df, data-frame\n",
    "df = pd.read_csv('ceaps_dataset.csv', skiprows=1, delimiter=';', encoding=\"latin1\")"
   ]
  },
  {
   "cell_type": "code",
   "execution_count": 240,
   "metadata": {},
   "outputs": [],
   "source": [
    "df['DATA'] = df['DATA'].str.replace('/', '-')\n",
    "\n",
    "df['DATA'] = df['DATA'].str.replace('5017', '2017')\n",
    "df['DATA'] = df['DATA'].str.replace('3016', '2017')\n",
    "df['DATA'] = df['DATA'].str.replace('216', '2016')\n",
    "df['DATA'] = df['DATA'].str.replace('206', '2016')\n",
    "df['DATA'] = df['DATA'].str.replace('200', '2016')\n",
    "\n",
    "df['DATA'] = pd.to_datetime(df['DATA'])\n",
    "\n",
    "df['DIA'] = df['DATA'].dt.day\n",
    "\n",
    "df['VALOR_REEMBOLSADO'] = df['VALOR_REEMBOLSADO'].str.replace(',', '.')"
   ]
  },
  {
   "cell_type": "code",
   "execution_count": 241,
   "metadata": {},
   "outputs": [],
   "source": [
    "df['VALOR_REEMBOLSADO'] = pd.to_numeric(df['VALOR_REEMBOLSADO'])"
   ]
  },
  {
   "cell_type": "code",
   "execution_count": 242,
   "metadata": {},
   "outputs": [
    {
     "data": {
      "text/plain": [
       "ANO                           int64\n",
       "MES                           int64\n",
       "SENADOR                      object\n",
       "TIPO_DESPESA                 object\n",
       "CNPJ_CPF                     object\n",
       "FORNECEDOR                   object\n",
       "DOCUMENTO                    object\n",
       "DATA                 datetime64[ns]\n",
       "DETALHAMENTO                 object\n",
       "VALOR_REEMBOLSADO           float64\n",
       "DIA                           int64\n",
       "dtype: object"
      ]
     },
     "execution_count": 242,
     "metadata": {},
     "output_type": "execute_result"
    }
   ],
   "source": [
    "df.dtypes"
   ]
  },
  {
   "cell_type": "code",
   "execution_count": 243,
   "metadata": {},
   "outputs": [],
   "source": [
    "df['MAIOR_QUE_100'] = 0"
   ]
  },
  {
   "cell_type": "code",
   "execution_count": 244,
   "metadata": {},
   "outputs": [],
   "source": [
    "df.loc[df['VALOR_REEMBOLSADO'] > 100, 'MAIOR_QUE_100'] = 1"
   ]
  },
  {
   "cell_type": "code",
   "execution_count": 245,
   "metadata": {},
   "outputs": [
    {
     "data": {
      "text/plain": [
       "Index(['ANO', 'MES', 'SENADOR', 'TIPO_DESPESA', 'CNPJ_CPF', 'FORNECEDOR',\n",
       "       'DOCUMENTO', 'DATA', 'DETALHAMENTO', 'VALOR_REEMBOLSADO', 'DIA',\n",
       "       'MAIOR_QUE_100'],\n",
       "      dtype='object')"
      ]
     },
     "execution_count": 245,
     "metadata": {},
     "output_type": "execute_result"
    }
   ],
   "source": [
    "df.columns"
   ]
  },
  {
   "cell_type": "code",
   "execution_count": 246,
   "metadata": {},
   "outputs": [],
   "source": [
    "df = df.filter(['ANO', 'MES', 'DIA', 'SENADOR', 'TIPO_DESPESA', 'CNPJ_CPF', 'FORNECEDOR',\n",
    "       'DOCUMENTO', 'DATA', 'DETALHAMENTO', 'VALOR_REEMBOLSADO',\n",
    "       'MAIOR_QUE_100'])"
   ]
  },
  {
   "cell_type": "code",
   "execution_count": 247,
   "metadata": {},
   "outputs": [
    {
     "data": {
      "text/plain": [
       "array(['Aluguel de imóveis para escritório político, compreendendo despesas concernentes a eles.',\n",
       "       'Aquisição de material de consumo para uso no escritório político, inclusive aquisição ou locação de software, despesas postais, aquisição de publicações, locação de móveis e de equipamentos. ',\n",
       "       'Contratação de consultorias, assessorias, pesquisas, trabalhos técnicos e outros serviços de apoio ao exercício do mandato parlamentar',\n",
       "       'Locomoção, hospedagem, alimentação, combustíveis e lubrificantes',\n",
       "       'Passagens aéreas, aquáticas e terrestres nacionais',\n",
       "       'Divulgação da atividade parlamentar',\n",
       "       'Serviços de Segurança Privada'], dtype=object)"
      ]
     },
     "execution_count": 247,
     "metadata": {},
     "output_type": "execute_result"
    }
   ],
   "source": [
    "df['TIPO_DESPESA'].unique()"
   ]
  },
  {
   "cell_type": "code",
   "execution_count": 248,
   "metadata": {},
   "outputs": [],
   "source": [
    "reducer = {\n",
    "    'Aluguel de imóveis para escritório político, compreendendo despesas concernentes a eles.': 'Aluguel de imóvel',\n",
    "    'Aquisição de material de consumo para uso no escritório político, inclusive aquisição ou locação de software, despesas postais, aquisição de publicações, locação de móveis e de equipamentos. ': 'Aquisição de material',\n",
    "    'Contratação de consultorias, assessorias, pesquisas, trabalhos técnicos e outros serviços de apoio ao exercício do mandato parlamentar': 'Consultorias',\n",
    "    'Locomoção, hospedagem, alimentação, combustíveis e lubrificantes': 'Logística',\n",
    "    'Passagens aéreas, aquáticas e terrestres nacionais': 'Passagens',\n",
    "    'Divulgação da atividade parlamentar': 'Divulgação',\n",
    "    'Serviços de Segurança Privada': 'Serviços'\n",
    "}\n",
    "\n",
    "df['TIPO_DESPESA'] = df['TIPO_DESPESA'].map(reducer)"
   ]
  },
  {
   "cell_type": "code",
   "execution_count": 249,
   "metadata": {},
   "outputs": [],
   "source": [
    "# df.drop('')"
   ]
  },
  {
   "cell_type": "code",
   "execution_count": 250,
   "metadata": {},
   "outputs": [],
   "source": [
    "df.to_csv('dados_limpos.csv', index=False, encoding='latin1')"
   ]
  }
 ],
 "metadata": {
  "kernelspec": {
   "display_name": "Python 3",
   "language": "python",
   "name": "python3"
  },
  "language_info": {
   "codemirror_mode": {
    "name": "ipython",
    "version": 3
   },
   "file_extension": ".py",
   "mimetype": "text/x-python",
   "name": "python",
   "nbconvert_exporter": "python",
   "pygments_lexer": "ipython3",
   "version": "3.6.4"
  }
 },
 "nbformat": 4,
 "nbformat_minor": 2
}
