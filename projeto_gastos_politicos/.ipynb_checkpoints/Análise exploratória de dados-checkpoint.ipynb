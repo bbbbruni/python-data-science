{
 "cells": [
  {
   "cell_type": "code",
   "execution_count": 186,
   "metadata": {},
   "outputs": [],
   "source": [
    "import pandas as pd\n",
    "import numpy as np\n",
    "import matplotlib.pyplot as plt\n",
    "import seaborn as sn\n",
    "plt.style.use('fivethirtyeight')"
   ]
  },
  {
   "cell_type": "code",
   "execution_count": 187,
   "metadata": {},
   "outputs": [],
   "source": [
    "df = pd.read_csv('dados_limpos.csv', encoding=\"latin1\", parse_dates=['DATA']);"
   ]
  },
  {
   "cell_type": "code",
   "execution_count": 188,
   "metadata": {
    "scrolled": false
   },
   "outputs": [
    {
     "data": {
      "text/html": [
       "<div>\n",
       "<style scoped>\n",
       "    .dataframe tbody tr th:only-of-type {\n",
       "        vertical-align: middle;\n",
       "    }\n",
       "\n",
       "    .dataframe tbody tr th {\n",
       "        vertical-align: top;\n",
       "    }\n",
       "\n",
       "    .dataframe thead th {\n",
       "        text-align: right;\n",
       "    }\n",
       "</style>\n",
       "<table border=\"1\" class=\"dataframe\">\n",
       "  <thead>\n",
       "    <tr style=\"text-align: right;\">\n",
       "      <th></th>\n",
       "      <th>ANO</th>\n",
       "      <th>MES</th>\n",
       "      <th>DIA</th>\n",
       "      <th>VALOR_REEMBOLSADO</th>\n",
       "      <th>MAIOR_QUE_100</th>\n",
       "    </tr>\n",
       "  </thead>\n",
       "  <tbody>\n",
       "    <tr>\n",
       "      <th>count</th>\n",
       "      <td>26691.0</td>\n",
       "      <td>26691.000000</td>\n",
       "      <td>26691.000000</td>\n",
       "      <td>26691.000000</td>\n",
       "      <td>26691.000000</td>\n",
       "    </tr>\n",
       "    <tr>\n",
       "      <th>mean</th>\n",
       "      <td>2016.0</td>\n",
       "      <td>6.470908</td>\n",
       "      <td>15.431419</td>\n",
       "      <td>947.484513</td>\n",
       "      <td>0.784085</td>\n",
       "    </tr>\n",
       "    <tr>\n",
       "      <th>std</th>\n",
       "      <td>0.0</td>\n",
       "      <td>3.257134</td>\n",
       "      <td>8.847378</td>\n",
       "      <td>2733.820037</td>\n",
       "      <td>0.411464</td>\n",
       "    </tr>\n",
       "    <tr>\n",
       "      <th>min</th>\n",
       "      <td>2016.0</td>\n",
       "      <td>1.000000</td>\n",
       "      <td>1.000000</td>\n",
       "      <td>0.010000</td>\n",
       "      <td>0.000000</td>\n",
       "    </tr>\n",
       "    <tr>\n",
       "      <th>25%</th>\n",
       "      <td>2016.0</td>\n",
       "      <td>4.000000</td>\n",
       "      <td>8.000000</td>\n",
       "      <td>124.000000</td>\n",
       "      <td>1.000000</td>\n",
       "    </tr>\n",
       "    <tr>\n",
       "      <th>50%</th>\n",
       "      <td>2016.0</td>\n",
       "      <td>6.000000</td>\n",
       "      <td>15.000000</td>\n",
       "      <td>324.790000</td>\n",
       "      <td>1.000000</td>\n",
       "    </tr>\n",
       "    <tr>\n",
       "      <th>75%</th>\n",
       "      <td>2016.0</td>\n",
       "      <td>9.000000</td>\n",
       "      <td>23.000000</td>\n",
       "      <td>956.865000</td>\n",
       "      <td>1.000000</td>\n",
       "    </tr>\n",
       "    <tr>\n",
       "      <th>max</th>\n",
       "      <td>2016.0</td>\n",
       "      <td>12.000000</td>\n",
       "      <td>31.000000</td>\n",
       "      <td>256980.000000</td>\n",
       "      <td>1.000000</td>\n",
       "    </tr>\n",
       "  </tbody>\n",
       "</table>\n",
       "</div>"
      ],
      "text/plain": [
       "           ANO           MES           DIA  VALOR_REEMBOLSADO  MAIOR_QUE_100\n",
       "count  26691.0  26691.000000  26691.000000       26691.000000   26691.000000\n",
       "mean    2016.0      6.470908     15.431419         947.484513       0.784085\n",
       "std        0.0      3.257134      8.847378        2733.820037       0.411464\n",
       "min     2016.0      1.000000      1.000000           0.010000       0.000000\n",
       "25%     2016.0      4.000000      8.000000         124.000000       1.000000\n",
       "50%     2016.0      6.000000     15.000000         324.790000       1.000000\n",
       "75%     2016.0      9.000000     23.000000         956.865000       1.000000\n",
       "max     2016.0     12.000000     31.000000      256980.000000       1.000000"
      ]
     },
     "execution_count": 188,
     "metadata": {},
     "output_type": "execute_result"
    }
   ],
   "source": [
    "df.describe()"
   ]
  },
  {
   "cell_type": "code",
   "execution_count": 189,
   "metadata": {
    "scrolled": true
   },
   "outputs": [
    {
     "data": {
      "text/html": [
       "<div>\n",
       "<style scoped>\n",
       "    .dataframe tbody tr th:only-of-type {\n",
       "        vertical-align: middle;\n",
       "    }\n",
       "\n",
       "    .dataframe tbody tr th {\n",
       "        vertical-align: top;\n",
       "    }\n",
       "\n",
       "    .dataframe thead th {\n",
       "        text-align: right;\n",
       "    }\n",
       "</style>\n",
       "<table border=\"1\" class=\"dataframe\">\n",
       "  <thead>\n",
       "    <tr style=\"text-align: right;\">\n",
       "      <th></th>\n",
       "      <th>ANO</th>\n",
       "      <th>MES</th>\n",
       "      <th>DIA</th>\n",
       "      <th>SENADOR</th>\n",
       "      <th>TIPO_DESPESA</th>\n",
       "      <th>CNPJ_CPF</th>\n",
       "      <th>FORNECEDOR</th>\n",
       "      <th>DOCUMENTO</th>\n",
       "      <th>DATA</th>\n",
       "      <th>DETALHAMENTO</th>\n",
       "      <th>VALOR_REEMBOLSADO</th>\n",
       "      <th>MAIOR_QUE_100</th>\n",
       "    </tr>\n",
       "  </thead>\n",
       "  <tbody>\n",
       "    <tr>\n",
       "      <th>4637</th>\n",
       "      <td>2016</td>\n",
       "      <td>12</td>\n",
       "      <td>22</td>\n",
       "      <td>DAVI ALCOLUMBRE</td>\n",
       "      <td>Divulgação</td>\n",
       "      <td>04.953.008/0001-23</td>\n",
       "      <td>ARTE &amp; IMAGEM GRAFICA E EDITORA EIRELI ME</td>\n",
       "      <td>202</td>\n",
       "      <td>2017-03-22</td>\n",
       "      <td>NaN</td>\n",
       "      <td>256980.0</td>\n",
       "      <td>1</td>\n",
       "    </tr>\n",
       "  </tbody>\n",
       "</table>\n",
       "</div>"
      ],
      "text/plain": [
       "       ANO  MES  DIA          SENADOR TIPO_DESPESA            CNPJ_CPF  \\\n",
       "4637  2016   12   22  DAVI ALCOLUMBRE   Divulgação  04.953.008/0001-23   \n",
       "\n",
       "                                     FORNECEDOR DOCUMENTO       DATA  \\\n",
       "4637  ARTE & IMAGEM GRAFICA E EDITORA EIRELI ME       202 2017-03-22   \n",
       "\n",
       "     DETALHAMENTO  VALOR_REEMBOLSADO  MAIOR_QUE_100  \n",
       "4637          NaN           256980.0              1  "
      ]
     },
     "execution_count": 189,
     "metadata": {},
     "output_type": "execute_result"
    }
   ],
   "source": [
    "df.loc[df['VALOR_REEMBOLSADO'] > 250000]"
   ]
  },
  {
   "cell_type": "code",
   "execution_count": 190,
   "metadata": {},
   "outputs": [
    {
     "data": {
      "text/html": [
       "<div>\n",
       "<style scoped>\n",
       "    .dataframe tbody tr th:only-of-type {\n",
       "        vertical-align: middle;\n",
       "    }\n",
       "\n",
       "    .dataframe tbody tr th {\n",
       "        vertical-align: top;\n",
       "    }\n",
       "\n",
       "    .dataframe thead th {\n",
       "        text-align: right;\n",
       "    }\n",
       "</style>\n",
       "<table border=\"1\" class=\"dataframe\">\n",
       "  <thead>\n",
       "    <tr style=\"text-align: right;\">\n",
       "      <th></th>\n",
       "      <th>ANO</th>\n",
       "      <th>MES</th>\n",
       "      <th>DIA</th>\n",
       "      <th>SENADOR</th>\n",
       "      <th>TIPO_DESPESA</th>\n",
       "      <th>CNPJ_CPF</th>\n",
       "      <th>FORNECEDOR</th>\n",
       "      <th>DOCUMENTO</th>\n",
       "      <th>DATA</th>\n",
       "      <th>DETALHAMENTO</th>\n",
       "      <th>VALOR_REEMBOLSADO</th>\n",
       "      <th>MAIOR_QUE_100</th>\n",
       "    </tr>\n",
       "  </thead>\n",
       "  <tbody>\n",
       "  </tbody>\n",
       "</table>\n",
       "</div>"
      ],
      "text/plain": [
       "Empty DataFrame\n",
       "Columns: [ANO, MES, DIA, SENADOR, TIPO_DESPESA, CNPJ_CPF, FORNECEDOR, DOCUMENTO, DATA, DETALHAMENTO, VALOR_REEMBOLSADO, MAIOR_QUE_100]\n",
       "Index: []"
      ]
     },
     "execution_count": 190,
     "metadata": {},
     "output_type": "execute_result"
    }
   ],
   "source": [
    "df.loc[(df['TIPO_DESPESA'] == 'Publicidade') & (df['VALOR_REEMBOLSADO'] > 30000)]"
   ]
  },
  {
   "cell_type": "code",
   "execution_count": 191,
   "metadata": {},
   "outputs": [],
   "source": [
    "gastos_senadores = df.groupby('SENADOR')"
   ]
  },
  {
   "cell_type": "code",
   "execution_count": 192,
   "metadata": {},
   "outputs": [],
   "source": [
    "gastos_senadores = gastos_senadores['VALOR_REEMBOLSADO'].sum().sort_values(ascending=False)"
   ]
  },
  {
   "cell_type": "code",
   "execution_count": 193,
   "metadata": {},
   "outputs": [],
   "source": [
    "top_10_senadores = gastos_senadores.head(10)"
   ]
  },
  {
   "cell_type": "code",
   "execution_count": 194,
   "metadata": {},
   "outputs": [
    {
     "data": {
      "text/plain": [
       "SENADOR\n",
       "DAVI ALCOLUMBRE       510076.07\n",
       "JOÃO CAPIBERIBE       502997.57\n",
       "TELMÁRIO MOTA         488678.92\n",
       "PAULO ROCHA           485114.40\n",
       "VANESSA GRAZZIOTIN    477079.76\n",
       "RANDOLFE RODRIGUES    471847.84\n",
       "SÉRGIO PETECÃO        463456.45\n",
       "GLADSON CAMELI        459977.83\n",
       "ROMERO JUCÁ           446448.98\n",
       "CIRO NOGUEIRA         440047.81\n",
       "Name: VALOR_REEMBOLSADO, dtype: float64"
      ]
     },
     "execution_count": 194,
     "metadata": {},
     "output_type": "execute_result"
    }
   ],
   "source": [
    "top_10_senadores"
   ]
  },
  {
   "cell_type": "code",
   "execution_count": 195,
   "metadata": {},
   "outputs": [
    {
     "data": {
      "text/plain": [
       "<matplotlib.axes._subplots.AxesSubplot at 0x1a26e31eb8>"
      ]
     },
     "execution_count": 195,
     "metadata": {},
     "output_type": "execute_result"
    },
    {
     "data": {
      "image/png": "[encoded data removed]",
      "text/plain": [
       "<matplotlib.figure.Figure at 0x1a26e31438>"
      ]
     },
     "metadata": {},
     "output_type": "display_data"
    }
   ],
   "source": [
    "top_10_senadores.plot(kind=\"bar\")\n",
    "# plt.title('Top 10 senadores mais gastões')\n",
    "# plt.ylabel('Valores gatos')"
   ]
  },
  {
   "cell_type": "code",
   "execution_count": 196,
   "metadata": {},
   "outputs": [
    {
     "data": {
      "text/plain": [
       "Index(['DAVI ALCOLUMBRE', 'JOÃO CAPIBERIBE', 'TELMÁRIO MOTA', 'PAULO ROCHA',\n",
       "       'VANESSA GRAZZIOTIN', 'RANDOLFE RODRIGUES', 'SÉRGIO PETECÃO',\n",
       "       'GLADSON CAMELI', 'ROMERO JUCÁ', 'CIRO NOGUEIRA'],\n",
       "      dtype='object', name='SENADOR')"
      ]
     },
     "execution_count": 196,
     "metadata": {},
     "output_type": "execute_result"
    }
   ],
   "source": [
    "top_10_senadores.index"
   ]
  },
  {
   "cell_type": "code",
   "execution_count": 197,
   "metadata": {},
   "outputs": [
    {
     "data": {
      "image/png": "[encoded data removed]",
      "text/plain": [
       "<matplotlib.figure.Figure at 0x1a25f51518>"
      ]
     },
     "metadata": {},
     "output_type": "display_data"
    }
   ],
   "source": [
    "gastos_top_10 = df.loc[df['SENADOR'].isin(top_10_senadores.index) & df['VALOR_REEMBOLSADO']]\n",
    "\n",
    "plt.style.use('seaborn')\n",
    "sns.boxplot(x=gastos_top_10['SENADOR'], y=gastos_top_10['VALOR_REEMBOLSADO'])\n",
    "plt.xticks(rotation=35)\n",
    "plt.show()"
   ]
  },
  {
   "cell_type": "code",
   "execution_count": 198,
   "metadata": {},
   "outputs": [],
   "source": [
    "mapa_de_calor = df"
   ]
  },
  {
   "cell_type": "code",
   "execution_count": 199,
   "metadata": {},
   "outputs": [],
   "source": [
    "mapa_de_calor['DATA'] = df['DATA'].dt.strftime('%Y-%m')"
   ]
  },
  {
   "cell_type": "code",
   "execution_count": 200,
   "metadata": {},
   "outputs": [
    {
     "data": {
      "text/html": [
       "<div>\n",
       "<style scoped>\n",
       "    .dataframe tbody tr th:only-of-type {\n",
       "        vertical-align: middle;\n",
       "    }\n",
       "\n",
       "    .dataframe tbody tr th {\n",
       "        vertical-align: top;\n",
       "    }\n",
       "\n",
       "    .dataframe thead th {\n",
       "        text-align: right;\n",
       "    }\n",
       "</style>\n",
       "<table border=\"1\" class=\"dataframe\">\n",
       "  <thead>\n",
       "    <tr style=\"text-align: right;\">\n",
       "      <th></th>\n",
       "      <th>ANO</th>\n",
       "      <th>MES</th>\n",
       "      <th>DIA</th>\n",
       "      <th>SENADOR</th>\n",
       "      <th>TIPO_DESPESA</th>\n",
       "      <th>CNPJ_CPF</th>\n",
       "      <th>FORNECEDOR</th>\n",
       "      <th>DOCUMENTO</th>\n",
       "      <th>DATA</th>\n",
       "      <th>DETALHAMENTO</th>\n",
       "      <th>VALOR_REEMBOLSADO</th>\n",
       "      <th>MAIOR_QUE_100</th>\n",
       "    </tr>\n",
       "  </thead>\n",
       "  <tbody>\n",
       "    <tr>\n",
       "      <th>0</th>\n",
       "      <td>2016</td>\n",
       "      <td>1</td>\n",
       "      <td>13</td>\n",
       "      <td>ACIR GURGACZ</td>\n",
       "      <td>Aluguel de imóvel</td>\n",
       "      <td>05.914.650/0001-66</td>\n",
       "      <td>ELETROBRÁS DISTRIBUIÇÃO RONDÔNIA</td>\n",
       "      <td>000011328</td>\n",
       "      <td>2016-01</td>\n",
       "      <td>Despesa com pagamento de energia elétrica para...</td>\n",
       "      <td>73.60</td>\n",
       "      <td>0</td>\n",
       "    </tr>\n",
       "    <tr>\n",
       "      <th>1</th>\n",
       "      <td>2016</td>\n",
       "      <td>1</td>\n",
       "      <td>18</td>\n",
       "      <td>ACIR GURGACZ</td>\n",
       "      <td>Aluguel de imóvel</td>\n",
       "      <td>05.914.650/0001-66</td>\n",
       "      <td>ELETROBRÁS DISTRIBUIÇÃO RONDÔNIA</td>\n",
       "      <td>000011327</td>\n",
       "      <td>2016-01</td>\n",
       "      <td>Pagamento de energia elétrica para o escritóri...</td>\n",
       "      <td>206.84</td>\n",
       "      <td>1</td>\n",
       "    </tr>\n",
       "    <tr>\n",
       "      <th>2</th>\n",
       "      <td>2016</td>\n",
       "      <td>1</td>\n",
       "      <td>1</td>\n",
       "      <td>ACIR GURGACZ</td>\n",
       "      <td>Aluguel de imóvel</td>\n",
       "      <td>004.948.028-63</td>\n",
       "      <td>GILBERTO PISELO DO NASCIMENTO</td>\n",
       "      <td>001/16</td>\n",
       "      <td>2016-04</td>\n",
       "      <td>Despesa com pagamento de aluguel, utilizado pa...</td>\n",
       "      <td>6000.00</td>\n",
       "      <td>1</td>\n",
       "    </tr>\n",
       "    <tr>\n",
       "      <th>3</th>\n",
       "      <td>2016</td>\n",
       "      <td>1</td>\n",
       "      <td>16</td>\n",
       "      <td>ACIR GURGACZ</td>\n",
       "      <td>Aluguel de imóvel</td>\n",
       "      <td>05.423.963/0001-11</td>\n",
       "      <td>OI MÓVEL S.A.</td>\n",
       "      <td>661639001</td>\n",
       "      <td>2016-01</td>\n",
       "      <td>despesa com pagamento de telefonia para o escr...</td>\n",
       "      <td>407.48</td>\n",
       "      <td>1</td>\n",
       "    </tr>\n",
       "    <tr>\n",
       "      <th>4</th>\n",
       "      <td>2016</td>\n",
       "      <td>1</td>\n",
       "      <td>1</td>\n",
       "      <td>ACIR GURGACZ</td>\n",
       "      <td>Aquisição de material</td>\n",
       "      <td>62.652.961/0001-38</td>\n",
       "      <td>AGÊNCIA ESTADO S.A.</td>\n",
       "      <td>00608918</td>\n",
       "      <td>2016-06</td>\n",
       "      <td>Aquisição de publicação virtual de conteúdo jo...</td>\n",
       "      <td>550.00</td>\n",
       "      <td>1</td>\n",
       "    </tr>\n",
       "  </tbody>\n",
       "</table>\n",
       "</div>"
      ],
      "text/plain": [
       "    ANO  MES  DIA       SENADOR           TIPO_DESPESA            CNPJ_CPF  \\\n",
       "0  2016    1   13  ACIR GURGACZ      Aluguel de imóvel  05.914.650/0001-66   \n",
       "1  2016    1   18  ACIR GURGACZ      Aluguel de imóvel  05.914.650/0001-66   \n",
       "2  2016    1    1  ACIR GURGACZ      Aluguel de imóvel      004.948.028-63   \n",
       "3  2016    1   16  ACIR GURGACZ      Aluguel de imóvel  05.423.963/0001-11   \n",
       "4  2016    1    1  ACIR GURGACZ  Aquisição de material  62.652.961/0001-38   \n",
       "\n",
       "                         FORNECEDOR  DOCUMENTO     DATA  \\\n",
       "0  ELETROBRÁS DISTRIBUIÇÃO RONDÔNIA  000011328  2016-01   \n",
       "1  ELETROBRÁS DISTRIBUIÇÃO RONDÔNIA  000011327  2016-01   \n",
       "2     GILBERTO PISELO DO NASCIMENTO     001/16  2016-04   \n",
       "3                     OI MÓVEL S.A.  661639001  2016-01   \n",
       "4               AGÊNCIA ESTADO S.A.   00608918  2016-06   \n",
       "\n",
       "                                        DETALHAMENTO  VALOR_REEMBOLSADO  \\\n",
       "0  Despesa com pagamento de energia elétrica para...              73.60   \n",
       "1  Pagamento de energia elétrica para o escritóri...             206.84   \n",
       "2  Despesa com pagamento de aluguel, utilizado pa...            6000.00   \n",
       "3  despesa com pagamento de telefonia para o escr...             407.48   \n",
       "4  Aquisição de publicação virtual de conteúdo jo...             550.00   \n",
       "\n",
       "   MAIOR_QUE_100  \n",
       "0              0  \n",
       "1              1  \n",
       "2              1  \n",
       "3              1  \n",
       "4              1  "
      ]
     },
     "execution_count": 200,
     "metadata": {},
     "output_type": "execute_result"
    }
   ],
   "source": [
    "mapa_de_calor.head()"
   ]
  },
  {
   "cell_type": "code",
   "execution_count": 211,
   "metadata": {},
   "outputs": [],
   "source": [
    "df_pivot = mapa_de_calor.pivot_table(\n",
    "    index='DATA', \n",
    "    columns='TIPO_DESPESA', \n",
    "    values='VALOR_REEMBOLSADO',\n",
    "    aggfunc=np.sum,\n",
    "    fill_value=0)"
   ]
  },
  {
   "cell_type": "code",
   "execution_count": 220,
   "metadata": {
    "scrolled": true
   },
   "outputs": [],
   "source": [
    "df_pivot = df_pivot.loc['2016-01':'2016-12']"
   ]
  },
  {
   "cell_type": "code",
   "execution_count": 221,
   "metadata": {},
   "outputs": [
    {
     "data": {
      "text/html": [
       "<div>\n",
       "<style scoped>\n",
       "    .dataframe tbody tr th:only-of-type {\n",
       "        vertical-align: middle;\n",
       "    }\n",
       "\n",
       "    .dataframe tbody tr th {\n",
       "        vertical-align: top;\n",
       "    }\n",
       "\n",
       "    .dataframe thead th {\n",
       "        text-align: right;\n",
       "    }\n",
       "</style>\n",
       "<table border=\"1\" class=\"dataframe\">\n",
       "  <thead>\n",
       "    <tr style=\"text-align: right;\">\n",
       "      <th>TIPO_DESPESA</th>\n",
       "      <th>Aluguel de imóvel</th>\n",
       "      <th>Aquisição de material</th>\n",
       "      <th>Consultorias</th>\n",
       "      <th>Divulgação</th>\n",
       "      <th>Logística</th>\n",
       "      <th>Passagens</th>\n",
       "      <th>Serviços</th>\n",
       "    </tr>\n",
       "    <tr>\n",
       "      <th>DATA</th>\n",
       "      <th></th>\n",
       "      <th></th>\n",
       "      <th></th>\n",
       "      <th></th>\n",
       "      <th></th>\n",
       "      <th></th>\n",
       "      <th></th>\n",
       "    </tr>\n",
       "  </thead>\n",
       "  <tbody>\n",
       "    <tr>\n",
       "      <th>2016-01</th>\n",
       "      <td>681720.72</td>\n",
       "      <td>130287.53</td>\n",
       "      <td>519205.27</td>\n",
       "      <td>419496.30</td>\n",
       "      <td>878387.57</td>\n",
       "      <td>423176.74</td>\n",
       "      <td>284426.09</td>\n",
       "    </tr>\n",
       "    <tr>\n",
       "      <th>2016-02</th>\n",
       "      <td>355621.91</td>\n",
       "      <td>103718.82</td>\n",
       "      <td>286143.29</td>\n",
       "      <td>252818.74</td>\n",
       "      <td>592270.58</td>\n",
       "      <td>487826.19</td>\n",
       "      <td>21832.40</td>\n",
       "    </tr>\n",
       "    <tr>\n",
       "      <th>2016-03</th>\n",
       "      <td>361367.60</td>\n",
       "      <td>94986.41</td>\n",
       "      <td>255112.80</td>\n",
       "      <td>291705.97</td>\n",
       "      <td>440847.14</td>\n",
       "      <td>586842.49</td>\n",
       "      <td>33859.82</td>\n",
       "    </tr>\n",
       "    <tr>\n",
       "      <th>2016-04</th>\n",
       "      <td>392789.93</td>\n",
       "      <td>93684.00</td>\n",
       "      <td>243225.69</td>\n",
       "      <td>224044.85</td>\n",
       "      <td>462978.26</td>\n",
       "      <td>549032.37</td>\n",
       "      <td>21978.24</td>\n",
       "    </tr>\n",
       "    <tr>\n",
       "      <th>2016-05</th>\n",
       "      <td>765999.20</td>\n",
       "      <td>80266.83</td>\n",
       "      <td>275629.88</td>\n",
       "      <td>263856.45</td>\n",
       "      <td>476910.51</td>\n",
       "      <td>520546.83</td>\n",
       "      <td>39480.96</td>\n",
       "    </tr>\n",
       "    <tr>\n",
       "      <th>2016-06</th>\n",
       "      <td>371057.80</td>\n",
       "      <td>90153.46</td>\n",
       "      <td>219292.74</td>\n",
       "      <td>320627.83</td>\n",
       "      <td>423650.18</td>\n",
       "      <td>624275.09</td>\n",
       "      <td>13873.95</td>\n",
       "    </tr>\n",
       "    <tr>\n",
       "      <th>2016-07</th>\n",
       "      <td>306088.26</td>\n",
       "      <td>67689.75</td>\n",
       "      <td>136238.66</td>\n",
       "      <td>200566.67</td>\n",
       "      <td>475541.95</td>\n",
       "      <td>453256.15</td>\n",
       "      <td>7124.31</td>\n",
       "    </tr>\n",
       "    <tr>\n",
       "      <th>2016-08</th>\n",
       "      <td>252439.17</td>\n",
       "      <td>78291.64</td>\n",
       "      <td>202764.55</td>\n",
       "      <td>256752.60</td>\n",
       "      <td>420363.64</td>\n",
       "      <td>578393.33</td>\n",
       "      <td>34069.32</td>\n",
       "    </tr>\n",
       "    <tr>\n",
       "      <th>2016-09</th>\n",
       "      <td>334052.65</td>\n",
       "      <td>78875.75</td>\n",
       "      <td>107722.85</td>\n",
       "      <td>200740.90</td>\n",
       "      <td>473085.66</td>\n",
       "      <td>469299.83</td>\n",
       "      <td>9194.48</td>\n",
       "    </tr>\n",
       "    <tr>\n",
       "      <th>2016-10</th>\n",
       "      <td>501062.14</td>\n",
       "      <td>67328.87</td>\n",
       "      <td>164543.91</td>\n",
       "      <td>177911.21</td>\n",
       "      <td>451540.23</td>\n",
       "      <td>562907.15</td>\n",
       "      <td>6204.09</td>\n",
       "    </tr>\n",
       "    <tr>\n",
       "      <th>2016-11</th>\n",
       "      <td>284476.07</td>\n",
       "      <td>82938.67</td>\n",
       "      <td>292906.28</td>\n",
       "      <td>245109.00</td>\n",
       "      <td>351032.82</td>\n",
       "      <td>531063.42</td>\n",
       "      <td>13834.51</td>\n",
       "    </tr>\n",
       "    <tr>\n",
       "      <th>2016-12</th>\n",
       "      <td>276560.04</td>\n",
       "      <td>73595.38</td>\n",
       "      <td>269498.04</td>\n",
       "      <td>306955.27</td>\n",
       "      <td>361582.07</td>\n",
       "      <td>324965.54</td>\n",
       "      <td>8991.71</td>\n",
       "    </tr>\n",
       "  </tbody>\n",
       "</table>\n",
       "</div>"
      ],
      "text/plain": [
       "TIPO_DESPESA  Aluguel de imóvel  Aquisição de material  Consultorias  \\\n",
       "DATA                                                                   \n",
       "2016-01               681720.72              130287.53     519205.27   \n",
       "2016-02               355621.91              103718.82     286143.29   \n",
       "2016-03               361367.60               94986.41     255112.80   \n",
       "2016-04               392789.93               93684.00     243225.69   \n",
       "2016-05               765999.20               80266.83     275629.88   \n",
       "2016-06               371057.80               90153.46     219292.74   \n",
       "2016-07               306088.26               67689.75     136238.66   \n",
       "2016-08               252439.17               78291.64     202764.55   \n",
       "2016-09               334052.65               78875.75     107722.85   \n",
       "2016-10               501062.14               67328.87     164543.91   \n",
       "2016-11               284476.07               82938.67     292906.28   \n",
       "2016-12               276560.04               73595.38     269498.04   \n",
       "\n",
       "TIPO_DESPESA  Divulgação  Logística  Passagens   Serviços  \n",
       "DATA                                                       \n",
       "2016-01        419496.30  878387.57  423176.74  284426.09  \n",
       "2016-02        252818.74  592270.58  487826.19   21832.40  \n",
       "2016-03        291705.97  440847.14  586842.49   33859.82  \n",
       "2016-04        224044.85  462978.26  549032.37   21978.24  \n",
       "2016-05        263856.45  476910.51  520546.83   39480.96  \n",
       "2016-06        320627.83  423650.18  624275.09   13873.95  \n",
       "2016-07        200566.67  475541.95  453256.15    7124.31  \n",
       "2016-08        256752.60  420363.64  578393.33   34069.32  \n",
       "2016-09        200740.90  473085.66  469299.83    9194.48  \n",
       "2016-10        177911.21  451540.23  562907.15    6204.09  \n",
       "2016-11        245109.00  351032.82  531063.42   13834.51  \n",
       "2016-12        306955.27  361582.07  324965.54    8991.71  "
      ]
     },
     "execution_count": 221,
     "metadata": {},
     "output_type": "execute_result"
    }
   ],
   "source": [
    "df_pivot"
   ]
  },
  {
   "cell_type": "code",
   "execution_count": 222,
   "metadata": {},
   "outputs": [
    {
     "data": {
      "text/plain": [
       "<matplotlib.axes._subplots.AxesSubplot at 0x1a26ace208>"
      ]
     },
     "execution_count": 222,
     "metadata": {},
     "output_type": "execute_result"
    },
    {
     "data": {
      "image/png": "[encoded data removed]",
      "text/plain": [
       "<matplotlib.figure.Figure at 0x1a26aff780>"
      ]
     },
     "metadata": {},
     "output_type": "display_data"
    }
   ],
   "source": [
    "sns.heatmap()"
   ]
  },
  {
   "cell_type": "code",
   "execution_count": null,
   "metadata": {},
   "outputs": [],
   "source": []
  }
 ],
 "metadata": {
  "kernelspec": {
   "display_name": "Python 3",
   "language": "python",
   "name": "python3"
  },
  "language_info": {
   "codemirror_mode": {
    "name": "ipython",
    "version": 3
   },
   "file_extension": ".py",
   "mimetype": "text/x-python",
   "name": "python",
   "nbconvert_exporter": "python",
   "pygments_lexer": "ipython3",
   "version": "3.6.4"
  }
 },
 "nbformat": 4,
 "nbformat_minor": 2
}
