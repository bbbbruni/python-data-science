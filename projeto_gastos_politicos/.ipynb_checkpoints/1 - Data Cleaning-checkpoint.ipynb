{
 "cells": [
  {
   "cell_type": "markdown",
   "metadata": {},
   "source": [
    "# Data Hacking - Day 1"
   ]
  },
  {
   "cell_type": "markdown",
   "metadata": {},
   "source": [
    "**ISTO É UM MARKDOWN**. Semelhante a outras linguagens de marcação, como HTML, o Markdown é um recurso do Jupyter Notebook que permite você colocar pedaços de texto junto com seu código.\n",
    "\n",
    "Assim como se fosse um documento de texto no **Word** ou **Google Docs**, o Markdown permite que você formate seu texto utilizando caracteres especiais. Confira abaixo como fazer algumas coisas em Markdown:\n",
    "\n",
    "### Clique duas vezes sobre uma célula Markdown para ver e editar seu conteúdo\n",
    "\n",
    "# Cabeçalho 1\n",
    "## Cabeçalho 2\n",
    "### Cabeçalho 3\n",
    "\n",
    "**Para deixar um texto em negrito, basta colocar seu texto entre dois pares de `*`**\n",
    "\n",
    "*Para colocar um texto em itálico, coloque seu texto entre dois `*`*\n",
    "\n",
    "[Você também pode criar um link para uma determinada página](http://datahackers.com.br/)\n",
    "\n",
    "**Você também pode adicionar uma imagem em Markdown:**\n",
    "![](https://carleton.ca/datapower/wp-content/uploads/BannereDark.png)"
   ]
  },
  {
   "cell_type": "markdown",
   "metadata": {},
   "source": [
    "## Saiba mais sobre Markdown\n",
    "O Github tem um excelente tutorial com todos os principais comandos de Markdown. Não deixe de conferir para melhorar cada vez mais a forma como você pode enriquecer suas análises:\n",
    "\n",
    "**[CLIQUE AQUI PARA ACESSAR O SITE](https://guides.github.com/features/mastering-markdown/)**"
   ]
  },
  {
   "cell_type": "markdown",
   "metadata": {},
   "source": [
    "<center><h1>PROJETO I</h1></center>\n",
    "<center><h2>Analisando dados do Senado brasileiro</h2></center>"
   ]
  },
  {
   "cell_type": "markdown",
   "metadata": {},
   "source": [
    "![](http://conteudo.imguol.com.br/c/noticias/5e/2018/02/21/20fev2018---vista-do-plenario-do-senado-em-brasilia-durante-sessao-de-votacao-do-decreto-de-intervencao-do-governo-federal-na-seguranca-publica-do-rio-de-janeiro-1519182512953_615x300.jpg)\n",
    "\n",
    "# Introdução\n",
    "\n",
    "Durante as análises que você conduzir, comece fazendo uma breve introdução ao seu trabalho. Gaste no máximo dois parágrafos para contextualizar o leitor sobre o que ele verá nas próximas linhas. **Utilize formatações como negrito para destacar pontos interessantes no texto**, mas não abuse deles. Uso de itálico para palavras estrangeiras também é importante para enriquecer seu texto.\n",
    "\n",
    "\n",
    "## Motivação\n",
    "\n",
    "Após contextualizar o leito no trecho acima, **utilize essa parte para explicar o motivo que fez você querer fazer essa análise**. Aqui você também pode ressaltar o que você espera alcançar até o fim desse estudo, por exemplo: pretendo identificar possíveis dados sujos e inconsistentes para depois gerar denuncias na Administração da Câmara dos Senadores, para que eles justifiquem o gasto, apresentando notas fiscais e documentos legais.\n",
    "\n",
    "Durante a motivação, compartilhe (se possível) o link onde você encontrou o dataset utilizado durante sua análise. Isso permitirá não só que outras pessoas baixem e executem suas próprias análises, como também permitirá entender com que tipo de dado você trabalhou.\n",
    "\n",
    "Exemplo:\n",
    "**Link para download do dataset**: [Clique aqui](https://www12.senado.leg.br/transparencia/dados-abertos-transparencia/dados-abertos-ceaps)"
   ]
  },
  {
   "cell_type": "code",
   "execution_count": 14,
   "metadata": {},
   "outputs": [],
   "source": [
    "# Utilize comentários para explicar o que seus códigos querem dizer\n",
    "import pandas as pd"
   ]
  },
  {
   "cell_type": "code",
   "execution_count": 15,
   "metadata": {},
   "outputs": [],
   "source": [
    "# Lendo dataset\n",
    "df = pd.read_csv('ceaps_dataset.csv', delimiter=';', encoding='latin1', skiprows=1)"
   ]
  },
  {
   "cell_type": "code",
   "execution_count": 16,
   "metadata": {},
   "outputs": [
    {
     "data": {
      "text/html": [
       "<div>\n",
       "<style scoped>\n",
       "    .dataframe tbody tr th:only-of-type {\n",
       "        vertical-align: middle;\n",
       "    }\n",
       "\n",
       "    .dataframe tbody tr th {\n",
       "        vertical-align: top;\n",
       "    }\n",
       "\n",
       "    .dataframe thead th {\n",
       "        text-align: right;\n",
       "    }\n",
       "</style>\n",
       "<table border=\"1\" class=\"dataframe\">\n",
       "  <thead>\n",
       "    <tr style=\"text-align: right;\">\n",
       "      <th></th>\n",
       "      <th>ANO</th>\n",
       "      <th>MES</th>\n",
       "      <th>SENADOR</th>\n",
       "      <th>TIPO_DESPESA</th>\n",
       "      <th>CNPJ_CPF</th>\n",
       "      <th>FORNECEDOR</th>\n",
       "      <th>DOCUMENTO</th>\n",
       "      <th>DATA</th>\n",
       "      <th>DETALHAMENTO</th>\n",
       "      <th>VALOR_REEMBOLSADO</th>\n",
       "    </tr>\n",
       "  </thead>\n",
       "  <tbody>\n",
       "    <tr>\n",
       "      <th>0</th>\n",
       "      <td>2016</td>\n",
       "      <td>1</td>\n",
       "      <td>ACIR GURGACZ</td>\n",
       "      <td>Aluguel de imóveis para escritório político, c...</td>\n",
       "      <td>05.914.650/0001-66</td>\n",
       "      <td>ELETROBRÁS DISTRIBUIÇÃO RONDÔNIA</td>\n",
       "      <td>000011328</td>\n",
       "      <td>13/01/2016</td>\n",
       "      <td>Despesa com pagamento de energia elétrica para...</td>\n",
       "      <td>73,6</td>\n",
       "    </tr>\n",
       "    <tr>\n",
       "      <th>1</th>\n",
       "      <td>2016</td>\n",
       "      <td>1</td>\n",
       "      <td>ACIR GURGACZ</td>\n",
       "      <td>Aluguel de imóveis para escritório político, c...</td>\n",
       "      <td>05.914.650/0001-66</td>\n",
       "      <td>ELETROBRÁS DISTRIBUIÇÃO RONDÔNIA</td>\n",
       "      <td>000011327</td>\n",
       "      <td>18/01/2016</td>\n",
       "      <td>Pagamento de energia elétrica para o escritóri...</td>\n",
       "      <td>206,84</td>\n",
       "    </tr>\n",
       "    <tr>\n",
       "      <th>2</th>\n",
       "      <td>2016</td>\n",
       "      <td>1</td>\n",
       "      <td>ACIR GURGACZ</td>\n",
       "      <td>Aluguel de imóveis para escritório político, c...</td>\n",
       "      <td>004.948.028-63</td>\n",
       "      <td>GILBERTO PISELO DO NASCIMENTO</td>\n",
       "      <td>001/16</td>\n",
       "      <td>04/01/2016</td>\n",
       "      <td>Despesa com pagamento de aluguel, utilizado pa...</td>\n",
       "      <td>6000</td>\n",
       "    </tr>\n",
       "    <tr>\n",
       "      <th>3</th>\n",
       "      <td>2016</td>\n",
       "      <td>1</td>\n",
       "      <td>ACIR GURGACZ</td>\n",
       "      <td>Aluguel de imóveis para escritório político, c...</td>\n",
       "      <td>05.423.963/0001-11</td>\n",
       "      <td>OI MÓVEL S.A.</td>\n",
       "      <td>661639001</td>\n",
       "      <td>16/01/2016</td>\n",
       "      <td>despesa com pagamento de telefonia para o escr...</td>\n",
       "      <td>407,48</td>\n",
       "    </tr>\n",
       "    <tr>\n",
       "      <th>4</th>\n",
       "      <td>2016</td>\n",
       "      <td>1</td>\n",
       "      <td>ACIR GURGACZ</td>\n",
       "      <td>Aquisição de material de consumo para uso no e...</td>\n",
       "      <td>62.652.961/0001-38</td>\n",
       "      <td>AGÊNCIA ESTADO S.A.</td>\n",
       "      <td>00608918</td>\n",
       "      <td>06/01/2016</td>\n",
       "      <td>Aquisição de publicação virtual de conteúdo jo...</td>\n",
       "      <td>550</td>\n",
       "    </tr>\n",
       "  </tbody>\n",
       "</table>\n",
       "</div>"
      ],
      "text/plain": [
       "    ANO  MES       SENADOR                                       TIPO_DESPESA  \\\n",
       "0  2016    1  ACIR GURGACZ  Aluguel de imóveis para escritório político, c...   \n",
       "1  2016    1  ACIR GURGACZ  Aluguel de imóveis para escritório político, c...   \n",
       "2  2016    1  ACIR GURGACZ  Aluguel de imóveis para escritório político, c...   \n",
       "3  2016    1  ACIR GURGACZ  Aluguel de imóveis para escritório político, c...   \n",
       "4  2016    1  ACIR GURGACZ  Aquisição de material de consumo para uso no e...   \n",
       "\n",
       "             CNPJ_CPF                        FORNECEDOR  DOCUMENTO  \\\n",
       "0  05.914.650/0001-66  ELETROBRÁS DISTRIBUIÇÃO RONDÔNIA  000011328   \n",
       "1  05.914.650/0001-66  ELETROBRÁS DISTRIBUIÇÃO RONDÔNIA  000011327   \n",
       "2      004.948.028-63     GILBERTO PISELO DO NASCIMENTO     001/16   \n",
       "3  05.423.963/0001-11                     OI MÓVEL S.A.  661639001   \n",
       "4  62.652.961/0001-38               AGÊNCIA ESTADO S.A.   00608918   \n",
       "\n",
       "         DATA                                       DETALHAMENTO  \\\n",
       "0  13/01/2016  Despesa com pagamento de energia elétrica para...   \n",
       "1  18/01/2016  Pagamento de energia elétrica para o escritóri...   \n",
       "2  04/01/2016  Despesa com pagamento de aluguel, utilizado pa...   \n",
       "3  16/01/2016  despesa com pagamento de telefonia para o escr...   \n",
       "4  06/01/2016  Aquisição de publicação virtual de conteúdo jo...   \n",
       "\n",
       "  VALOR_REEMBOLSADO  \n",
       "0              73,6  \n",
       "1            206,84  \n",
       "2              6000  \n",
       "3            407,48  \n",
       "4               550  "
      ]
     },
     "execution_count": 16,
     "metadata": {},
     "output_type": "execute_result"
    }
   ],
   "source": [
    "# Cinco primeiras linhas do DataFrame\n",
    "df.head()"
   ]
  },
  {
   "cell_type": "code",
   "execution_count": 17,
   "metadata": {},
   "outputs": [
    {
     "data": {
      "text/html": [
       "<div>\n",
       "<style scoped>\n",
       "    .dataframe tbody tr th:only-of-type {\n",
       "        vertical-align: middle;\n",
       "    }\n",
       "\n",
       "    .dataframe tbody tr th {\n",
       "        vertical-align: top;\n",
       "    }\n",
       "\n",
       "    .dataframe thead th {\n",
       "        text-align: right;\n",
       "    }\n",
       "</style>\n",
       "<table border=\"1\" class=\"dataframe\">\n",
       "  <thead>\n",
       "    <tr style=\"text-align: right;\">\n",
       "      <th></th>\n",
       "      <th>ANO</th>\n",
       "      <th>MES</th>\n",
       "      <th>SENADOR</th>\n",
       "      <th>TIPO_DESPESA</th>\n",
       "      <th>CNPJ_CPF</th>\n",
       "      <th>FORNECEDOR</th>\n",
       "      <th>DOCUMENTO</th>\n",
       "      <th>DATA</th>\n",
       "      <th>DETALHAMENTO</th>\n",
       "      <th>VALOR_REEMBOLSADO</th>\n",
       "    </tr>\n",
       "  </thead>\n",
       "  <tbody>\n",
       "    <tr>\n",
       "      <th>26686</th>\n",
       "      <td>2016</td>\n",
       "      <td>12</td>\n",
       "      <td>ZEZÉ PERRELLA</td>\n",
       "      <td>Locomoção, hospedagem, alimentação, combustíve...</td>\n",
       "      <td>01.245.727/0001-00</td>\n",
       "      <td>Trevo Posto de Serviços Ltda</td>\n",
       "      <td>083555</td>\n",
       "      <td>23/12/2016</td>\n",
       "      <td>NaN</td>\n",
       "      <td>183,4</td>\n",
       "    </tr>\n",
       "    <tr>\n",
       "      <th>26687</th>\n",
       "      <td>2016</td>\n",
       "      <td>12</td>\n",
       "      <td>ZEZÉ PERRELLA</td>\n",
       "      <td>Locomoção, hospedagem, alimentação, combustíve...</td>\n",
       "      <td>01.245.727/0001-00</td>\n",
       "      <td>Trevo Posto de Serviços Ltda</td>\n",
       "      <td>084787</td>\n",
       "      <td>26/12/2016</td>\n",
       "      <td>NaN</td>\n",
       "      <td>50</td>\n",
       "    </tr>\n",
       "    <tr>\n",
       "      <th>26688</th>\n",
       "      <td>2016</td>\n",
       "      <td>12</td>\n",
       "      <td>ZEZÉ PERRELLA</td>\n",
       "      <td>Passagens aéreas, aquáticas e terrestres nacio...</td>\n",
       "      <td>09.296.295/0001-60</td>\n",
       "      <td>Azul</td>\n",
       "      <td>QGIJ8X</td>\n",
       "      <td>07/12/2016</td>\n",
       "      <td>Companhia Aérea: AZUL, Localizador: QGIJ8X. Pa...</td>\n",
       "      <td>1055,41</td>\n",
       "    </tr>\n",
       "    <tr>\n",
       "      <th>26689</th>\n",
       "      <td>2016</td>\n",
       "      <td>12</td>\n",
       "      <td>ZEZÉ PERRELLA</td>\n",
       "      <td>Passagens aéreas, aquáticas e terrestres nacio...</td>\n",
       "      <td>21.443.582/0001-50</td>\n",
       "      <td>Pronto Produção de Eventos e Turismo Ltda</td>\n",
       "      <td>S6ZB6L</td>\n",
       "      <td>12/12/2016</td>\n",
       "      <td>Companhia Aérea: AZUL, Localizador: S6ZB6L. Pa...</td>\n",
       "      <td>390,18</td>\n",
       "    </tr>\n",
       "    <tr>\n",
       "      <th>26690</th>\n",
       "      <td>2016</td>\n",
       "      <td>12</td>\n",
       "      <td>ZEZÉ PERRELLA</td>\n",
       "      <td>Passagens aéreas, aquáticas e terrestres nacio...</td>\n",
       "      <td>21.443.582/0001-50</td>\n",
       "      <td>Pronto Produção de Eventos e Turismo Ltda</td>\n",
       "      <td>ZDS6KY</td>\n",
       "      <td>12/12/2016</td>\n",
       "      <td>Companhia Aérea: GOL, Localizador: ZDS6KY. Pas...</td>\n",
       "      <td>654,28</td>\n",
       "    </tr>\n",
       "  </tbody>\n",
       "</table>\n",
       "</div>"
      ],
      "text/plain": [
       "        ANO  MES        SENADOR  \\\n",
       "26686  2016   12  ZEZÉ PERRELLA   \n",
       "26687  2016   12  ZEZÉ PERRELLA   \n",
       "26688  2016   12  ZEZÉ PERRELLA   \n",
       "26689  2016   12  ZEZÉ PERRELLA   \n",
       "26690  2016   12  ZEZÉ PERRELLA   \n",
       "\n",
       "                                            TIPO_DESPESA            CNPJ_CPF  \\\n",
       "26686  Locomoção, hospedagem, alimentação, combustíve...  01.245.727/0001-00   \n",
       "26687  Locomoção, hospedagem, alimentação, combustíve...  01.245.727/0001-00   \n",
       "26688  Passagens aéreas, aquáticas e terrestres nacio...  09.296.295/0001-60   \n",
       "26689  Passagens aéreas, aquáticas e terrestres nacio...  21.443.582/0001-50   \n",
       "26690  Passagens aéreas, aquáticas e terrestres nacio...  21.443.582/0001-50   \n",
       "\n",
       "                                      FORNECEDOR DOCUMENTO        DATA  \\\n",
       "26686               Trevo Posto de Serviços Ltda    083555  23/12/2016   \n",
       "26687               Trevo Posto de Serviços Ltda    084787  26/12/2016   \n",
       "26688                                       Azul    QGIJ8X  07/12/2016   \n",
       "26689  Pronto Produção de Eventos e Turismo Ltda    S6ZB6L  12/12/2016   \n",
       "26690  Pronto Produção de Eventos e Turismo Ltda    ZDS6KY  12/12/2016   \n",
       "\n",
       "                                            DETALHAMENTO VALOR_REEMBOLSADO  \n",
       "26686                                                NaN             183,4  \n",
       "26687                                                NaN                50  \n",
       "26688  Companhia Aérea: AZUL, Localizador: QGIJ8X. Pa...           1055,41  \n",
       "26689  Companhia Aérea: AZUL, Localizador: S6ZB6L. Pa...            390,18  \n",
       "26690  Companhia Aérea: GOL, Localizador: ZDS6KY. Pas...            654,28  "
      ]
     },
     "execution_count": 17,
     "metadata": {},
     "output_type": "execute_result"
    }
   ],
   "source": [
    "# Exibindo cinco últimas linhas\n",
    "df.tail()"
   ]
  },
  {
   "cell_type": "code",
   "execution_count": 18,
   "metadata": {
    "scrolled": true
   },
   "outputs": [
    {
     "data": {
      "text/plain": [
       "ANO                   int64\n",
       "MES                   int64\n",
       "SENADOR              object\n",
       "TIPO_DESPESA         object\n",
       "CNPJ_CPF             object\n",
       "FORNECEDOR           object\n",
       "DOCUMENTO            object\n",
       "DATA                 object\n",
       "DETALHAMENTO         object\n",
       "VALOR_REEMBOLSADO    object\n",
       "dtype: object"
      ]
     },
     "execution_count": 18,
     "metadata": {},
     "output_type": "execute_result"
    }
   ],
   "source": [
    "# Utilizando o método dtypes para entender como o Pandas está lendo todas as colunas\n",
    "df.dtypes"
   ]
  },
  {
   "cell_type": "code",
   "execution_count": 19,
   "metadata": {},
   "outputs": [
    {
     "data": {
      "text/html": [
       "<div>\n",
       "<style scoped>\n",
       "    .dataframe tbody tr th:only-of-type {\n",
       "        vertical-align: middle;\n",
       "    }\n",
       "\n",
       "    .dataframe tbody tr th {\n",
       "        vertical-align: top;\n",
       "    }\n",
       "\n",
       "    .dataframe thead th {\n",
       "        text-align: right;\n",
       "    }\n",
       "</style>\n",
       "<table border=\"1\" class=\"dataframe\">\n",
       "  <thead>\n",
       "    <tr style=\"text-align: right;\">\n",
       "      <th></th>\n",
       "      <th>ANO</th>\n",
       "      <th>MES</th>\n",
       "    </tr>\n",
       "  </thead>\n",
       "  <tbody>\n",
       "    <tr>\n",
       "      <th>count</th>\n",
       "      <td>26691.0</td>\n",
       "      <td>26691.000000</td>\n",
       "    </tr>\n",
       "    <tr>\n",
       "      <th>mean</th>\n",
       "      <td>2016.0</td>\n",
       "      <td>6.470908</td>\n",
       "    </tr>\n",
       "    <tr>\n",
       "      <th>std</th>\n",
       "      <td>0.0</td>\n",
       "      <td>3.257134</td>\n",
       "    </tr>\n",
       "    <tr>\n",
       "      <th>min</th>\n",
       "      <td>2016.0</td>\n",
       "      <td>1.000000</td>\n",
       "    </tr>\n",
       "    <tr>\n",
       "      <th>25%</th>\n",
       "      <td>2016.0</td>\n",
       "      <td>4.000000</td>\n",
       "    </tr>\n",
       "    <tr>\n",
       "      <th>50%</th>\n",
       "      <td>2016.0</td>\n",
       "      <td>6.000000</td>\n",
       "    </tr>\n",
       "    <tr>\n",
       "      <th>75%</th>\n",
       "      <td>2016.0</td>\n",
       "      <td>9.000000</td>\n",
       "    </tr>\n",
       "    <tr>\n",
       "      <th>max</th>\n",
       "      <td>2016.0</td>\n",
       "      <td>12.000000</td>\n",
       "    </tr>\n",
       "  </tbody>\n",
       "</table>\n",
       "</div>"
      ],
      "text/plain": [
       "           ANO           MES\n",
       "count  26691.0  26691.000000\n",
       "mean    2016.0      6.470908\n",
       "std        0.0      3.257134\n",
       "min     2016.0      1.000000\n",
       "25%     2016.0      4.000000\n",
       "50%     2016.0      6.000000\n",
       "75%     2016.0      9.000000\n",
       "max     2016.0     12.000000"
      ]
     },
     "execution_count": 19,
     "metadata": {},
     "output_type": "execute_result"
    }
   ],
   "source": [
    "# A função describe() irá retornar uma tabela com estatísticas de todas as colunas númericas de nosso DataFrame\n",
    "df.describe()"
   ]
  },
  {
   "cell_type": "markdown",
   "metadata": {},
   "source": [
    "## Explicando sua linha de pensamento\n",
    "\n",
    "Colocar Markdown entre suas células é muito importante para explicar **o que pretende fazer nas células a seguir**, ou então explicar **o que você descobriu das células anteriores**. Essas partes em texto será muito importante para fazer com que um leito não-técnico consiga entender tudo o que você está fazendo."
   ]
  },
  {
   "cell_type": "markdown",
   "metadata": {},
   "source": [
    "# Divida sua análise em tópicos\n",
    "\n",
    "Divida parte das suas análises em tópicos ao criar cabeçalhos como esse e uma pequena descrição sobre o que você irá fazer nessa fase. Também pode ser interessante destacar problemas que você pode encontrar nos próximos passos. Confira o exemplo abaixo, onde nós vamos criar um tópico para limpeza de dados (Data Cleaning)."
   ]
  },
  {
   "cell_type": "markdown",
   "metadata": {},
   "source": [
    "# Limpeza de dados (Data Cleaning)\n",
    "\n",
    "O dataset do CEAPS (Cota para Exercício da Atividade Parlamentar dos Senadores) possui muitos dados sujos. Um dos problemas que encontraremos é a forma como valores em dinheiro é apresentado. Como no Brasil utilizamos vírgulas(`,`) ao invés de ponto (`.`), como no padrão americano, **precisarei substituir as vírgulas e converter a coluna de forma que o Pandas consiga interpretá-la como número**."
   ]
  },
  {
   "cell_type": "code",
   "execution_count": 20,
   "metadata": {},
   "outputs": [],
   "source": [
    "# O comando abaixo irá substituir todas as vírgulas da coluna VALOR_REEMBOLSADO por pontos\n",
    "df['VALOR_REEMBOLSADO'] = df['VALOR_REEMBOLSADO'].str.replace(',', '.')"
   ]
  },
  {
   "cell_type": "code",
   "execution_count": 21,
   "metadata": {},
   "outputs": [],
   "source": [
    "# Após substituir os caracteres, converterei a coluna VALOR_REEMBOLSADO em númerico\n",
    "df['VALOR_REEMBOLSADO'] = pd.to_numeric(df['VALOR_REEMBOLSADO'])"
   ]
  },
  {
   "cell_type": "code",
   "execution_count": 22,
   "metadata": {},
   "outputs": [
    {
     "data": {
      "text/plain": [
       "ANO                    int64\n",
       "MES                    int64\n",
       "SENADOR               object\n",
       "TIPO_DESPESA          object\n",
       "CNPJ_CPF              object\n",
       "FORNECEDOR            object\n",
       "DOCUMENTO             object\n",
       "DATA                  object\n",
       "DETALHAMENTO          object\n",
       "VALOR_REEMBOLSADO    float64\n",
       "dtype: object"
      ]
     },
     "execution_count": 22,
     "metadata": {},
     "output_type": "execute_result"
    }
   ],
   "source": [
    "# Verificando se o Pandas está interpretando a coluna VALOR_REEMBOLSADO corretamente\n",
    "df.dtypes"
   ]
  },
  {
   "cell_type": "markdown",
   "metadata": {},
   "source": [
    "Com sucesso, consegui converter a coluna `VALOR_REEMBOLSADO` em número. Como podemos ver no código acima, o Pandas está interpretando essa coluna como `float64` corretamente.\n",
    "\n",
    "Continuando nossa limpeza, preciso fazer com a coluna `DATA` seja interpretada de forma correta."
   ]
  },
  {
   "cell_type": "markdown",
   "metadata": {},
   "source": [
    "## Alterando coluna de data"
   ]
  },
  {
   "cell_type": "code",
   "execution_count": 23,
   "metadata": {},
   "outputs": [],
   "source": [
    "# Se eu executar essa célula sem o código abaixo estar comentado, o Pandas irá apresentar um erro\n",
    "# Descomente ele, caso queira ver o erro\n",
    "\n",
    "#df['DATA'] = df['DATA'].str.replace('/', '-')"
   ]
  },
  {
   "cell_type": "markdown",
   "metadata": {},
   "source": [
    "O erro é devido haver muitas datas em formatos inválidos, como anos de `5017`, `3016`, `2016`, dentre outras. **Para cada data inválida que o Pandas encontra ao executar o código**, precisaremos alterar o valor da célula errada."
   ]
  },
  {
   "cell_type": "code",
   "execution_count": 24,
   "metadata": {},
   "outputs": [],
   "source": [
    "# Essas são algumas datas que estão incorretas. Iremos substitui-las\n",
    "df['DATA'] = df['DATA'].str.replace('5017', '2017')\n",
    "df['DATA'] = df['DATA'].str.replace('3016', '2016')\n",
    "df['DATA'] = df['DATA'].str.replace('216', '2016')\n",
    "df['DATA'] = df['DATA'].str.replace('200', '2016')\n",
    "df['DATA'] = df['DATA'].str.replace('206', '2016')"
   ]
  },
  {
   "cell_type": "markdown",
   "metadata": {},
   "source": [
    "Agora que as datas foram corrigidas, podemos converter a coluna `DATA` para `datetime`."
   ]
  },
  {
   "cell_type": "code",
   "execution_count": 25,
   "metadata": {},
   "outputs": [],
   "source": [
    "df['DATA'] = pd.to_datetime(df['DATA'])"
   ]
  },
  {
   "cell_type": "markdown",
   "metadata": {},
   "source": [
    "Esse é um exemplo sobre como você pode conduzir suas análises. Basicamente, você deve:\n",
    "* Dividir seu código em tópicos\n",
    "* Utilizar markdowns antes de seu código, explicando o que pretende fazer\n",
    "* Comentar o resultado de seus principais códigos, explicando que resultados conseguiu com eles"
   ]
  },
  {
   "cell_type": "markdown",
   "metadata": {},
   "source": [
    "# Funções para enriquecer sua análise"
   ]
  },
  {
   "cell_type": "markdown",
   "metadata": {},
   "source": [
    "Abaixo iremos ver algumas funções que podem ser úteis durante sua análise, que conhecemos durante nosso Bootcamp."
   ]
  },
  {
   "cell_type": "markdown",
   "metadata": {},
   "source": [
    "### Criando novas colunas com base no valor de outra\n",
    "A coluna `DATA` é uma coluna de tempo, nós temos acesso a diversas funções e métodos relacionados a datas. [Confira a documentação oficial do Pandas para conhecer as opções disponíveis para você utilizar](https://pandas.pydata.org/pandas-docs/version/0.23.4/api.html#datetimelike-properties). Por exemplo, poderíamos criar uma coluna com o **dia em que foi feito um reembolso**, utilizando o método `day`."
   ]
  },
  {
   "cell_type": "code",
   "execution_count": 26,
   "metadata": {
    "scrolled": false
   },
   "outputs": [],
   "source": [
    "df['DIA'] = df['DATA'].dt.day"
   ]
  },
  {
   "cell_type": "markdown",
   "metadata": {},
   "source": [
    "Podemos criar novas colunas com Pandas também. Por exemplo, podemos **criar uma coluna binária que informa se o gasto do senador foi maior que R$ 100**."
   ]
  },
  {
   "cell_type": "code",
   "execution_count": 27,
   "metadata": {},
   "outputs": [],
   "source": [
    "# Primeiro, vamos criar uma coluna nova, onde todos os seus valores serão 0\n",
    "df['MAIOR_QUE_100'] = 0"
   ]
  },
  {
   "cell_type": "code",
   "execution_count": 28,
   "metadata": {},
   "outputs": [],
   "source": [
    "# Em seguida vamor marcar com o valor 1 se a coluna VALOR_REEMBOLSADO for maior que 100\n",
    "df.loc[df['VALOR_REEMBOLSADO'] > 100, 'MAIOR_QUE_100'] = 1"
   ]
  },
  {
   "cell_type": "code",
   "execution_count": 29,
   "metadata": {
    "scrolled": true
   },
   "outputs": [
    {
     "data": {
      "text/html": [
       "<div>\n",
       "<style scoped>\n",
       "    .dataframe tbody tr th:only-of-type {\n",
       "        vertical-align: middle;\n",
       "    }\n",
       "\n",
       "    .dataframe tbody tr th {\n",
       "        vertical-align: top;\n",
       "    }\n",
       "\n",
       "    .dataframe thead th {\n",
       "        text-align: right;\n",
       "    }\n",
       "</style>\n",
       "<table border=\"1\" class=\"dataframe\">\n",
       "  <thead>\n",
       "    <tr style=\"text-align: right;\">\n",
       "      <th></th>\n",
       "      <th>ANO</th>\n",
       "      <th>MES</th>\n",
       "      <th>SENADOR</th>\n",
       "      <th>TIPO_DESPESA</th>\n",
       "      <th>CNPJ_CPF</th>\n",
       "      <th>FORNECEDOR</th>\n",
       "      <th>DOCUMENTO</th>\n",
       "      <th>DATA</th>\n",
       "      <th>DETALHAMENTO</th>\n",
       "      <th>VALOR_REEMBOLSADO</th>\n",
       "      <th>DIA</th>\n",
       "      <th>MAIOR_QUE_100</th>\n",
       "    </tr>\n",
       "  </thead>\n",
       "  <tbody>\n",
       "    <tr>\n",
       "      <th>0</th>\n",
       "      <td>2016</td>\n",
       "      <td>1</td>\n",
       "      <td>ACIR GURGACZ</td>\n",
       "      <td>Aluguel de imóveis para escritório político, c...</td>\n",
       "      <td>05.914.650/0001-66</td>\n",
       "      <td>ELETROBRÁS DISTRIBUIÇÃO RONDÔNIA</td>\n",
       "      <td>000011328</td>\n",
       "      <td>2016-01-13</td>\n",
       "      <td>Despesa com pagamento de energia elétrica para...</td>\n",
       "      <td>73.60</td>\n",
       "      <td>13</td>\n",
       "      <td>0</td>\n",
       "    </tr>\n",
       "    <tr>\n",
       "      <th>1</th>\n",
       "      <td>2016</td>\n",
       "      <td>1</td>\n",
       "      <td>ACIR GURGACZ</td>\n",
       "      <td>Aluguel de imóveis para escritório político, c...</td>\n",
       "      <td>05.914.650/0001-66</td>\n",
       "      <td>ELETROBRÁS DISTRIBUIÇÃO RONDÔNIA</td>\n",
       "      <td>000011327</td>\n",
       "      <td>2016-01-18</td>\n",
       "      <td>Pagamento de energia elétrica para o escritóri...</td>\n",
       "      <td>206.84</td>\n",
       "      <td>18</td>\n",
       "      <td>1</td>\n",
       "    </tr>\n",
       "    <tr>\n",
       "      <th>2</th>\n",
       "      <td>2016</td>\n",
       "      <td>1</td>\n",
       "      <td>ACIR GURGACZ</td>\n",
       "      <td>Aluguel de imóveis para escritório político, c...</td>\n",
       "      <td>004.948.028-63</td>\n",
       "      <td>GILBERTO PISELO DO NASCIMENTO</td>\n",
       "      <td>001/16</td>\n",
       "      <td>2016-04-01</td>\n",
       "      <td>Despesa com pagamento de aluguel, utilizado pa...</td>\n",
       "      <td>6000.00</td>\n",
       "      <td>1</td>\n",
       "      <td>1</td>\n",
       "    </tr>\n",
       "    <tr>\n",
       "      <th>3</th>\n",
       "      <td>2016</td>\n",
       "      <td>1</td>\n",
       "      <td>ACIR GURGACZ</td>\n",
       "      <td>Aluguel de imóveis para escritório político, c...</td>\n",
       "      <td>05.423.963/0001-11</td>\n",
       "      <td>OI MÓVEL S.A.</td>\n",
       "      <td>661639001</td>\n",
       "      <td>2016-01-16</td>\n",
       "      <td>despesa com pagamento de telefonia para o escr...</td>\n",
       "      <td>407.48</td>\n",
       "      <td>16</td>\n",
       "      <td>1</td>\n",
       "    </tr>\n",
       "    <tr>\n",
       "      <th>4</th>\n",
       "      <td>2016</td>\n",
       "      <td>1</td>\n",
       "      <td>ACIR GURGACZ</td>\n",
       "      <td>Aquisição de material de consumo para uso no e...</td>\n",
       "      <td>62.652.961/0001-38</td>\n",
       "      <td>AGÊNCIA ESTADO S.A.</td>\n",
       "      <td>00608918</td>\n",
       "      <td>2016-06-01</td>\n",
       "      <td>Aquisição de publicação virtual de conteúdo jo...</td>\n",
       "      <td>550.00</td>\n",
       "      <td>1</td>\n",
       "      <td>1</td>\n",
       "    </tr>\n",
       "  </tbody>\n",
       "</table>\n",
       "</div>"
      ],
      "text/plain": [
       "    ANO  MES       SENADOR                                       TIPO_DESPESA  \\\n",
       "0  2016    1  ACIR GURGACZ  Aluguel de imóveis para escritório político, c...   \n",
       "1  2016    1  ACIR GURGACZ  Aluguel de imóveis para escritório político, c...   \n",
       "2  2016    1  ACIR GURGACZ  Aluguel de imóveis para escritório político, c...   \n",
       "3  2016    1  ACIR GURGACZ  Aluguel de imóveis para escritório político, c...   \n",
       "4  2016    1  ACIR GURGACZ  Aquisição de material de consumo para uso no e...   \n",
       "\n",
       "             CNPJ_CPF                        FORNECEDOR  DOCUMENTO       DATA  \\\n",
       "0  05.914.650/0001-66  ELETROBRÁS DISTRIBUIÇÃO RONDÔNIA  000011328 2016-01-13   \n",
       "1  05.914.650/0001-66  ELETROBRÁS DISTRIBUIÇÃO RONDÔNIA  000011327 2016-01-18   \n",
       "2      004.948.028-63     GILBERTO PISELO DO NASCIMENTO     001/16 2016-04-01   \n",
       "3  05.423.963/0001-11                     OI MÓVEL S.A.  661639001 2016-01-16   \n",
       "4  62.652.961/0001-38               AGÊNCIA ESTADO S.A.   00608918 2016-06-01   \n",
       "\n",
       "                                        DETALHAMENTO  VALOR_REEMBOLSADO  DIA  \\\n",
       "0  Despesa com pagamento de energia elétrica para...              73.60   13   \n",
       "1  Pagamento de energia elétrica para o escritóri...             206.84   18   \n",
       "2  Despesa com pagamento de aluguel, utilizado pa...            6000.00    1   \n",
       "3  despesa com pagamento de telefonia para o escr...             407.48   16   \n",
       "4  Aquisição de publicação virtual de conteúdo jo...             550.00    1   \n",
       "\n",
       "   MAIOR_QUE_100  \n",
       "0              0  \n",
       "1              1  \n",
       "2              1  \n",
       "3              1  \n",
       "4              1  "
      ]
     },
     "execution_count": 29,
     "metadata": {},
     "output_type": "execute_result"
    }
   ],
   "source": [
    "# Cinco primeiras linhas do novo DataFrame\n",
    "df.head()"
   ]
  },
  {
   "cell_type": "markdown",
   "metadata": {},
   "source": [
    "# A função filter \n",
    "A função filter permite que você reordene as colunas do DataFrame de acordo com sua vontade.\n",
    "\n",
    "## ATENÇÃO:\n",
    "Se você esquecer de colocar uma coluna ou colocar um novo errado, nenhum erro será mostrado. Sempre confira se todas as colunas que você quer estão no DataFrame após usar a função."
   ]
  },
  {
   "cell_type": "code",
   "execution_count": 30,
   "metadata": {},
   "outputs": [],
   "source": [
    "df = df.filter(['ANO', 'MES', 'DIA', 'SENADOR', 'TIPO_DESPESA', 'CNPJ_CPF', 'FORNECEDOR', 'DOCUMENTO', 'DATA', 'DETALHAMENTO', 'VALOR_REEMBOLSADO', 'MAIOR_QUE_100'])"
   ]
  },
  {
   "cell_type": "code",
   "execution_count": 31,
   "metadata": {},
   "outputs": [
    {
     "data": {
      "text/plain": [
       "Index(['ANO', 'MES', 'DIA', 'SENADOR', 'TIPO_DESPESA', 'CNPJ_CPF',\n",
       "       'FORNECEDOR', 'DOCUMENTO', 'DATA', 'DETALHAMENTO', 'VALOR_REEMBOLSADO',\n",
       "       'MAIOR_QUE_100'],\n",
       "      dtype='object')"
      ]
     },
     "execution_count": 31,
     "metadata": {},
     "output_type": "execute_result"
    }
   ],
   "source": [
    "# Vamos verificar as colunas do nosso DataFrame\n",
    "df.columns"
   ]
  },
  {
   "cell_type": "code",
   "execution_count": 32,
   "metadata": {},
   "outputs": [
    {
     "data": {
      "text/plain": [
       "['Aluguel de imóveis para escritório político, compreendendo despesas concernentes a eles.',\n",
       " 'Aquisição de material de consumo para uso no escritório político, inclusive aquisição ou locação de software, despesas postais, aquisição de publicações, locação de móveis e de equipamentos. ',\n",
       " 'Contratação de consultorias, assessorias, pesquisas, trabalhos técnicos e outros serviços de apoio ao exercício do mandato parlamentar',\n",
       " 'Locomoção, hospedagem, alimentação, combustíveis e lubrificantes',\n",
       " 'Passagens aéreas, aquáticas e terrestres nacionais',\n",
       " 'Divulgação da atividade parlamentar',\n",
       " 'Serviços de Segurança Privada']"
      ]
     },
     "execution_count": 32,
     "metadata": {},
     "output_type": "execute_result"
    }
   ],
   "source": [
    "# A função unique nos mostrará todos os valores distintos presentes em uma coluna.\n",
    "# A função .tolist() irá apresentá-las de forma melhor para visualizar, mas não é obrigatória\n",
    "df['TIPO_DESPESA'].unique().tolist()"
   ]
  },
  {
   "cell_type": "markdown",
   "metadata": {},
   "source": [
    "As categorias de `TIPO_DESPESA` são muito longas. Podemos utilizar a função `.map()` para renomeá-las e deixar mais fácil de ler e compreender."
   ]
  },
  {
   "cell_type": "code",
   "execution_count": 100,
   "metadata": {},
   "outputs": [],
   "source": [
    "mapper = {'Aluguel de imóveis para escritório político, compreendendo despesas concernentes a eles.': 'Aluguel de imóveis',\n",
    "          'Aquisição de material de consumo para uso no escritório político, inclusive aquisição ou locação de software, despesas postais, aquisição de publicações, locação de móveis e de equipamentos. ': 'Aquisição de material',\n",
    "          'Contratação de consultorias, assessorias, pesquisas, trabalhos técnicos e outros serviços de apoio ao exercício do mandato parlamentar': 'Consultoria',\n",
    "          'Locomoção, hospedagem, alimentação, combustíveis e lubrificantes': 'Logística',\n",
    "          'Passagens aéreas, aquáticas e terrestres nacionais': 'Passagem',\n",
    "          'Divulgação da atividade parlamentar': 'Publicidade',\n",
    "          'Serviços de Segurança Privada': 'Segurança'}\n",
    "\n",
    "df['TIPO_DESPESA'] = df['TIPO_DESPESA'].map(mapper)"
   ]
  },
  {
   "cell_type": "code",
   "execution_count": 104,
   "metadata": {},
   "outputs": [
    {
     "data": {
      "text/html": [
       "<div>\n",
       "<style scoped>\n",
       "    .dataframe tbody tr th:only-of-type {\n",
       "        vertical-align: middle;\n",
       "    }\n",
       "\n",
       "    .dataframe tbody tr th {\n",
       "        vertical-align: top;\n",
       "    }\n",
       "\n",
       "    .dataframe thead th {\n",
       "        text-align: right;\n",
       "    }\n",
       "</style>\n",
       "<table border=\"1\" class=\"dataframe\">\n",
       "  <thead>\n",
       "    <tr style=\"text-align: right;\">\n",
       "      <th></th>\n",
       "      <th>ANO</th>\n",
       "      <th>MES</th>\n",
       "      <th>DIA</th>\n",
       "      <th>SENADOR</th>\n",
       "      <th>TIPO_DESPESA</th>\n",
       "      <th>CNPJ_CPF</th>\n",
       "      <th>FORNECEDOR</th>\n",
       "      <th>DOCUMENTO</th>\n",
       "      <th>DATA</th>\n",
       "      <th>DETALHAMENTO</th>\n",
       "      <th>VALOR_REEMBOLSADO</th>\n",
       "      <th>MAIOR_QUE_100</th>\n",
       "    </tr>\n",
       "  </thead>\n",
       "  <tbody>\n",
       "    <tr>\n",
       "      <th>0</th>\n",
       "      <td>2016</td>\n",
       "      <td>1</td>\n",
       "      <td>13</td>\n",
       "      <td>ACIR GURGACZ</td>\n",
       "      <td>Aluguel de imóveis</td>\n",
       "      <td>05.914.650/0001-66</td>\n",
       "      <td>ELETROBRÁS DISTRIBUIÇÃO RONDÔNIA</td>\n",
       "      <td>000011328</td>\n",
       "      <td>2016-01-13</td>\n",
       "      <td>Despesa com pagamento de energia elétrica para...</td>\n",
       "      <td>73.60</td>\n",
       "      <td>0</td>\n",
       "    </tr>\n",
       "    <tr>\n",
       "      <th>1</th>\n",
       "      <td>2016</td>\n",
       "      <td>1</td>\n",
       "      <td>18</td>\n",
       "      <td>ACIR GURGACZ</td>\n",
       "      <td>Aluguel de imóveis</td>\n",
       "      <td>05.914.650/0001-66</td>\n",
       "      <td>ELETROBRÁS DISTRIBUIÇÃO RONDÔNIA</td>\n",
       "      <td>000011327</td>\n",
       "      <td>2016-01-18</td>\n",
       "      <td>Pagamento de energia elétrica para o escritóri...</td>\n",
       "      <td>206.84</td>\n",
       "      <td>1</td>\n",
       "    </tr>\n",
       "    <tr>\n",
       "      <th>2</th>\n",
       "      <td>2016</td>\n",
       "      <td>1</td>\n",
       "      <td>1</td>\n",
       "      <td>ACIR GURGACZ</td>\n",
       "      <td>Aluguel de imóveis</td>\n",
       "      <td>004.948.028-63</td>\n",
       "      <td>GILBERTO PISELO DO NASCIMENTO</td>\n",
       "      <td>001/16</td>\n",
       "      <td>2016-04-01</td>\n",
       "      <td>Despesa com pagamento de aluguel, utilizado pa...</td>\n",
       "      <td>6000.00</td>\n",
       "      <td>1</td>\n",
       "    </tr>\n",
       "    <tr>\n",
       "      <th>3</th>\n",
       "      <td>2016</td>\n",
       "      <td>1</td>\n",
       "      <td>16</td>\n",
       "      <td>ACIR GURGACZ</td>\n",
       "      <td>Aluguel de imóveis</td>\n",
       "      <td>05.423.963/0001-11</td>\n",
       "      <td>OI MÓVEL S.A.</td>\n",
       "      <td>661639001</td>\n",
       "      <td>2016-01-16</td>\n",
       "      <td>despesa com pagamento de telefonia para o escr...</td>\n",
       "      <td>407.48</td>\n",
       "      <td>1</td>\n",
       "    </tr>\n",
       "    <tr>\n",
       "      <th>4</th>\n",
       "      <td>2016</td>\n",
       "      <td>1</td>\n",
       "      <td>1</td>\n",
       "      <td>ACIR GURGACZ</td>\n",
       "      <td>Aquisição de material</td>\n",
       "      <td>62.652.961/0001-38</td>\n",
       "      <td>AGÊNCIA ESTADO S.A.</td>\n",
       "      <td>00608918</td>\n",
       "      <td>2016-06-01</td>\n",
       "      <td>Aquisição de publicação virtual de conteúdo jo...</td>\n",
       "      <td>550.00</td>\n",
       "      <td>1</td>\n",
       "    </tr>\n",
       "  </tbody>\n",
       "</table>\n",
       "</div>"
      ],
      "text/plain": [
       "    ANO  MES  DIA       SENADOR           TIPO_DESPESA            CNPJ_CPF  \\\n",
       "0  2016    1   13  ACIR GURGACZ     Aluguel de imóveis  05.914.650/0001-66   \n",
       "1  2016    1   18  ACIR GURGACZ     Aluguel de imóveis  05.914.650/0001-66   \n",
       "2  2016    1    1  ACIR GURGACZ     Aluguel de imóveis      004.948.028-63   \n",
       "3  2016    1   16  ACIR GURGACZ     Aluguel de imóveis  05.423.963/0001-11   \n",
       "4  2016    1    1  ACIR GURGACZ  Aquisição de material  62.652.961/0001-38   \n",
       "\n",
       "                         FORNECEDOR  DOCUMENTO       DATA  \\\n",
       "0  ELETROBRÁS DISTRIBUIÇÃO RONDÔNIA  000011328 2016-01-13   \n",
       "1  ELETROBRÁS DISTRIBUIÇÃO RONDÔNIA  000011327 2016-01-18   \n",
       "2     GILBERTO PISELO DO NASCIMENTO     001/16 2016-04-01   \n",
       "3                     OI MÓVEL S.A.  661639001 2016-01-16   \n",
       "4               AGÊNCIA ESTADO S.A.   00608918 2016-06-01   \n",
       "\n",
       "                                        DETALHAMENTO  VALOR_REEMBOLSADO  \\\n",
       "0  Despesa com pagamento de energia elétrica para...              73.60   \n",
       "1  Pagamento de energia elétrica para o escritóri...             206.84   \n",
       "2  Despesa com pagamento de aluguel, utilizado pa...            6000.00   \n",
       "3  despesa com pagamento de telefonia para o escr...             407.48   \n",
       "4  Aquisição de publicação virtual de conteúdo jo...             550.00   \n",
       "\n",
       "   MAIOR_QUE_100  \n",
       "0              0  \n",
       "1              1  \n",
       "2              1  \n",
       "3              1  \n",
       "4              1  "
      ]
     },
     "execution_count": 104,
     "metadata": {},
     "output_type": "execute_result"
    }
   ],
   "source": [
    "df.head()"
   ]
  },
  {
   "cell_type": "code",
   "execution_count": 107,
   "metadata": {},
   "outputs": [],
   "source": [
    "# Com os dados limpos, podemos salvar o arquivo\n",
    "df.to_csv('dados_limpos.csv', index=False, encoding='latin1')"
   ]
  }
 ],
 "metadata": {
  "kernelspec": {
   "display_name": "Python 3",
   "language": "python",
   "name": "python3"
  },
  "language_info": {
   "codemirror_mode": {
    "name": "ipython",
    "version": 3
   },
   "file_extension": ".py",
   "mimetype": "text/x-python",
   "name": "python",
   "nbconvert_exporter": "python",
   "pygments_lexer": "ipython3",
   "version": "3.6.4"
  }
 },
 "nbformat": 4,
 "nbformat_minor": 2
}
